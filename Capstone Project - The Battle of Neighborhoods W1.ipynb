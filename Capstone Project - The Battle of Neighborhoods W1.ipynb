{
    "cells": [
        {
            "cell_type": "markdown",
            "metadata": {
                "collapsed": true
            },
            "source": " # WEEK 1- CAPSTONE PROJECT\n"
        },
        {
            "cell_type": "markdown",
            "metadata": {},
            "source": "## 1. Introduction/Business Problem"
        },
        {
            "cell_type": "markdown",
            "metadata": {},
            "source": "In Oslo, there's a large amount of restaurants currently dealing with a low demand due to COVID-19. A new restaurant owner wants to buy a new location to place nearby the main epicentre to increase their brand. "
        },
        {
            "cell_type": "markdown",
            "metadata": {},
            "source": "## 2. Data section\n"
        },
        {
            "cell_type": "markdown",
            "metadata": {},
            "source": "We need to find where are the main epicentres and see which one will fit best for the restaurant owner. For this, we will use Forsquare data to localise the main venues and use KMeans to find the main epicentres. Then, we will label each cluster according to what was predicted and find the most suitable epicentre to place the new restaurant."
        }
    ],
    "metadata": {
        "kernelspec": {
            "display_name": "Python 3.7",
            "language": "python",
            "name": "python3"
        },
        "language_info": {
            "codemirror_mode": {
                "name": "ipython",
                "version": 3
            },
            "file_extension": ".py",
            "mimetype": "text/x-python",
            "name": "python",
            "nbconvert_exporter": "python",
            "pygments_lexer": "ipython3",
            "version": "3.7.9"
        }
    },
    "nbformat": 4,
    "nbformat_minor": 1
}